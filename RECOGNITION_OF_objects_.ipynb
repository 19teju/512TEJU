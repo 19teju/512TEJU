{
  "nbformat": 4,
  "nbformat_minor": 0,
  "metadata": {
    "colab": {
      "name": "RECOGNITION_OF_objects_.ipynb",
      "provenance": [],
      "collapsed_sections": [],
      "include_colab_link": true
    },
    "kernelspec": {
      "name": "python3",
      "display_name": "Python 3"
    },
    "language_info": {
      "name": "python"
    }
  },
  "cells": [
    {
      "cell_type": "markdown",
      "metadata": {
        "id": "view-in-github",
        "colab_type": "text"
      },
      "source": [
        "<a href=\"https://colab.research.google.com/github/19teju/512TEJU/blob/main/RECOGNITION_OF_objects_.ipynb\" target=\"_parent\"><img src=\"https://colab.research.google.com/assets/colab-badge.svg\" alt=\"Open In Colab\"/></a>"
      ]
    },
    {
      "cell_type": "markdown",
      "metadata": {
        "id": "6ojR_hydpir9"
      },
      "source": [
        "https://colab.research.google.com/drive/1PB20CwJi3iDVAiA1BlPsEaC7cqoIC9Pe?usp=sharing"
      ]
    },
    {
      "cell_type": "markdown",
      "metadata": {
        "id": "49OF_WtcpGbn"
      },
      "source": [
        "IMPORTING THE REQUIRED "
      ]
    },
    {
      "cell_type": "code",
      "metadata": {
        "id": "YAQRzIZUskiS"
      },
      "source": [
        "import tensorflow as tf\n",
        "from keras.utils import np_utils\n",
        "from matplotlib import pyplot as plt\n",
        "import numpy as np"
      ],
      "execution_count": null,
      "outputs": []
    },
    {
      "cell_type": "markdown",
      "metadata": {
        "id": "mjEiRbrcpYnC"
      },
      "source": [
        "LOADING AND SPLITTING THE DATA "
      ]
    },
    {
      "cell_type": "code",
      "metadata": {
        "id": "6VNSUsbnfJ8N"
      },
      "source": [
        "(X_train, y_train), (X_test, y_test) = tf.keras.datasets.cifar10.load_data()"
      ],
      "execution_count": null,
      "outputs": []
    },
    {
      "cell_type": "code",
      "metadata": {
        "id": "dA22gb-PrlOz"
      },
      "source": [
        "print('Training Images: {}'.format(X_train.shape))\n",
        "print('Testing Images: {}'.format(X_test.shape))"
      ],
      "execution_count": null,
      "outputs": []
    },
    {
      "cell_type": "code",
      "metadata": {
        "id": "OhwRP4-yrlQj"
      },
      "source": [
        "print(X_train.ndim)"
      ],
      "execution_count": null,
      "outputs": []
    },
    {
      "cell_type": "code",
      "metadata": {
        "id": "bpHhdqf1rlSx"
      },
      "source": [
        "for i in range(333,336):\n",
        "    #plt.subplot(120+ 1 + i) \n",
        "    plt.figure(figsize=(1,1))\n",
        "    img = X_train[i]\n",
        "    plt.imshow(img)\n",
        "    plt.show()"
      ],
      "execution_count": null,
      "outputs": []
    },
    {
      "cell_type": "markdown",
      "metadata": {
        "id": "J-V4gCB_peI8"
      },
      "source": [
        "PREPROCESSING THE DATA "
      ]
    },
    {
      "cell_type": "code",
      "metadata": {
        "id": "ZwUpIuFAfLDA"
      },
      "source": [
        "X_train = X_train.reshape(X_train.shape[0], 32, 32, 3)\n",
        "X_test = X_test.reshape(X_test.shape[0], 32, 32, 3)\n",
        "\n",
        "X_train = X_train.astype('float32')\n",
        "X_test = X_test.astype('float32')\n",
        "\n",
        "\n",
        "X_train /= 255\n",
        "X_test=X_test/255\n",
        "\n",
        "n_classes = 10\n",
        "print(\"Shape before one-hot encoding: \", y_train.shape0)\n",
        "\n",
        "Y_train = np_utils.to_categorical(y_train, n_classes)\n",
        "Y_test = np_utils.to_categorical(y_test, n_classes)\n",
        "print(\"Shape after one-hot encoding: \", Y_train.shape)\n"
      ],
      "execution_count": null,
      "outputs": []
    },
    {
      "cell_type": "markdown",
      "metadata": {
        "id": "0WepE7HNpn1u"
      },
      "source": [
        "BUILDING THE MODEL "
      ]
    },
    {
      "cell_type": "code",
      "metadata": {
        "id": "zrfZv6kxuffJ"
      },
      "source": [
        "from keras.models import Sequential\n",
        "from keras.layers import Dense, Dropout, Conv2D, MaxPool2D, Flatten\n",
        "\n",
        "model = Sequential()\n",
        "#convolutional layers\n",
        "model.add(Conv2D(50, kernel_size=(3,3), strides=(1,1), padding='same', activation='relu', input_shape=(32, 32, 3)))\n",
        "        \n",
        "model.add(Conv2D(75, kernel_size=(3,3), strides=(1,1), padding='same', activation='relu'))\n",
        "model.add(MaxPool2D(pool_size=(2,2)))\n",
        "model.add(Dropout(0.25))\n",
        "\n",
        "model.add(Conv2D(125, kernel_size=(3,3), strides=(1,1), padding='same', activation='relu'))\n",
        "model.add(MaxPool2D(pool_size=(2,2)))\n",
        "model.add(Dropout(0.25))\n",
        "\n",
        "model.add(Flatten())\n",
        "\n",
        "# hidden layer\n",
        "model.add(Dense(500, activation='relu'))\n",
        "model.add(Dropout(0.4))\n",
        "model.add(Dense(250, activation='relu'))\n",
        "model.add(Dropout(0.3))\n",
        "# output layer\n",
        "model.add(Dense(10, activation='softmax'))\n",
        "\n",
        "# compiling \n",
        "model.compile(loss='categorical_crossentropy', metrics=['accuracy'], optimizer='adam')\n",
        "\n",
        "# training the model \n",
        "model.fit(X_train, Y_train, batch_size=128, epochs=20)"
      ],
      "execution_count": null,
      "outputs": []
    },
    {
      "cell_type": "code",
      "metadata": {
        "id": "cVLmMLiWccrJ"
      },
      "source": [
        "model.evaluate(X_test, Y_test)"
      ],
      "execution_count": null,
      "outputs": []
    },
    {
      "cell_type": "markdown",
      "metadata": {
        "id": "YVoroQceps-y"
      },
      "source": [
        "PREDICTING "
      ]
    },
    {
      "cell_type": "code",
      "metadata": {
        "id": "cKAMcIGL1BkI"
      },
      "source": [
        "classes = range(0,10)\n",
        "\n",
        "names = ['airplane',\n",
        "        'automobile',\n",
        "        'bird',\n",
        "        'cat',\n",
        "        'deer',\n",
        "        'dog',\n",
        "        'frog',\n",
        "        'horse',\n",
        "        'ship',\n",
        "        'truck']\n",
        "\n",
        "# zip the names and classes to make a dictionary of class_labels\n",
        "class_labels = dict(zip(classes, names))\n",
        "\n",
        "# generate batch of 9 images to predict\n",
        "batch = X_test[100:109]\n",
        "labels = np.argmax(Y_test[100:109],axis=-1)\n",
        "\n",
        "# make predictions\n",
        "predictions = model.predict(batch, verbose = 1)"
      ],
      "execution_count": null,
      "outputs": []
    },
    {
      "cell_type": "code",
      "metadata": {
        "id": "lOSFNJUX1Qdv"
      },
      "source": [
        "print (predictions)"
      ],
      "execution_count": null,
      "outputs": []
    },
    {
      "cell_type": "code",
      "metadata": {
        "id": "dta84e5K1Tpa"
      },
      "source": [
        "for image in predictions:\n",
        "    print(np.sum(image))"
      ],
      "execution_count": null,
      "outputs": []
    },
    {
      "cell_type": "code",
      "metadata": {
        "id": "6YxbDO1q1WSV"
      },
      "source": [
        "class_result = np.argmax(predictions,axis=-1)\n",
        "print (class_result)"
      ],
      "execution_count": null,
      "outputs": []
    },
    {
      "cell_type": "markdown",
      "metadata": {
        "id": "r7uZ5x23pwiH"
      },
      "source": [
        "FINAL OBJECT DETECTION "
      ]
    },
    {
      "cell_type": "code",
      "metadata": {
        "id": "PnRbIFl41ZrT"
      },
      "source": [
        "\n",
        "fig, axs = plt.subplots(3, 3, figsize = (19,6))\n",
        "fig.subplots_adjust(hspace = 1)\n",
        "axs = axs.flatten()\n",
        "\n",
        "for i, img in enumerate(batch):\n",
        "    for key, value in class_labels.items():\n",
        "        if class_result[i] == key:\n",
        "            title = 'Prediction: {}\\nActual: {}'.format(class_labels[key], class_labels[labels[i]])\n",
        "            axs[i].set_title(title)\n",
        "            axs[i].axes.get_xaxis().set_visible(False)\n",
        "            axs[i].axes.get_yaxis().set_visible(False)\n",
        "            \n",
        "    # plot the image\n",
        "    axs[i].imshow(img)\n",
        "    \n",
        "# show the plot\n",
        "plt.show()"
      ],
      "execution_count": null,
      "outputs": []
    }
  ]
}