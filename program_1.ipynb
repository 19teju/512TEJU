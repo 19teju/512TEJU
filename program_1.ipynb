{
  "nbformat": 4,
  "nbformat_minor": 0,
  "metadata": {
    "colab": {
      "name": "program 1",
      "provenance": [],
      "authorship_tag": "ABX9TyMQXuvPXoSc0wEEGYw5zb4v",
      "include_colab_link": true
    },
    "kernelspec": {
      "name": "python3",
      "display_name": "Python 3"
    },
    "language_info": {
      "name": "python"
    }
  },
  "cells": [
    {
      "cell_type": "markdown",
      "metadata": {
        "id": "view-in-github",
        "colab_type": "text"
      },
      "source": [
        "<a href=\"https://colab.research.google.com/github/19teju/512TEJU/blob/main/program_1.ipynb\" target=\"_parent\"><img src=\"https://colab.research.google.com/assets/colab-badge.svg\" alt=\"Open In Colab\"/></a>"
      ]
    },
    {
      "cell_type": "code",
      "metadata": {
        "id": "0i0SI9lEvPxq"
      },
      "source": [
        "a=10\n",
        "b=51\n",
        "print(a+b)\n",
        "print(a*b)\n",
        "print(\"welcome to PYTHON\")"
      ],
      "execution_count": null,
      "outputs": []
    }
  ]
}